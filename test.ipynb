{
 "cells": [
  {
   "cell_type": "code",
   "execution_count": 1,
   "metadata": {
    "collapsed": false
   },
   "outputs": [
    {
     "name": "stderr",
     "output_type": "stream",
     "text": [
      "C:\\Users\\Ankit\\Anaconda3\\lib\\site-packages\\sklearn\\cross_validation.py:44: DeprecationWarning: This module was deprecated in version 0.18 in favor of the model_selection module into which all the refactored classes and functions are moved. Also note that the interface of the new CV iterators are different from that of this module. This module will be removed in 0.20.\n",
      "  \"This module will be removed in 0.20.\", DeprecationWarning)\n"
     ]
    }
   ],
   "source": [
    "import pandas as pd # to import csv and for data manipulation\n",
    "import matplotlib.pyplot as plt # to plot graph\n",
    "import seaborn as sns # for intractve graphs\n",
    "import numpy as np # for linear algebra\n",
    "import datetime # to dela with date and time\n",
    "%matplotlib inline\n",
    "from sklearn.preprocessing import StandardScaler # for preprocessing the data\n",
    "from sklearn.ensemble import RandomForestClassifier # Random forest classifier\n",
    "from sklearn.tree import DecisionTreeClassifier # for Decision Tree classifier\n",
    "from sklearn.svm import SVC # for SVM classification\n",
    "from sklearn.linear_model import LogisticRegression\n",
    "from sklearn.cross_validation import train_test_split # to split the data\n",
    "from sklearn.cross_validation import KFold # For cross vbalidation\n",
    "from sklearn.model_selection import GridSearchCV # for tunnig hyper parameter it will use all combination of given parameters\n",
    "from sklearn.model_selection import RandomizedSearchCV # same for tunning hyper parameter but will use random combinations of parameters\n",
    "from sklearn.metrics import confusion_matrix,recall_score,precision_recall_curve,auc,roc_curve,roc_auc_score,classification_report\n",
    "import warnings\n",
    "warnings.filterwarnings('ignore')"
   ]
  },
  {
   "cell_type": "code",
   "execution_count": 2,
   "metadata": {
    "collapsed": false
   },
   "outputs": [],
   "source": [
    "data = pd.read_csv(\"input/creditcard.csv\",header = 0)"
   ]
  },
  {
   "cell_type": "code",
   "execution_count": 3,
   "metadata": {
    "collapsed": false
   },
   "outputs": [
    {
     "name": "stdout",
     "output_type": "stream",
     "text": [
      "<class 'pandas.core.frame.DataFrame'>\n",
      "RangeIndex: 284807 entries, 0 to 284806\n",
      "Data columns (total 31 columns):\n",
      "Time      284807 non-null float64\n",
      "V1        284807 non-null float64\n",
      "V2        284807 non-null float64\n",
      "V3        284807 non-null float64\n",
      "V4        284807 non-null float64\n",
      "V5        284807 non-null float64\n",
      "V6        284807 non-null float64\n",
      "V7        284807 non-null float64\n",
      "V8        284807 non-null float64\n",
      "V9        284807 non-null float64\n",
      "V10       284807 non-null float64\n",
      "V11       284807 non-null float64\n",
      "V12       284807 non-null float64\n",
      "V13       284807 non-null float64\n",
      "V14       284807 non-null float64\n",
      "V15       284807 non-null float64\n",
      "V16       284807 non-null float64\n",
      "V17       284807 non-null float64\n",
      "V18       284807 non-null float64\n",
      "V19       284807 non-null float64\n",
      "V20       284807 non-null float64\n",
      "V21       284807 non-null float64\n",
      "V22       284807 non-null float64\n",
      "V23       284807 non-null float64\n",
      "V24       284807 non-null float64\n",
      "V25       284807 non-null float64\n",
      "V26       284807 non-null float64\n",
      "V27       284807 non-null float64\n",
      "V28       284807 non-null float64\n",
      "Amount    284807 non-null float64\n",
      "Class     284807 non-null int64\n",
      "dtypes: float64(30), int64(1)\n",
      "memory usage: 67.4 MB\n"
     ]
    }
   ],
   "source": [
    "data.info()"
   ]
  },
  {
   "cell_type": "code",
   "execution_count": 4,
   "metadata": {
    "collapsed": false
   },
   "outputs": [
    {
     "data": {
      "text/plain": [
       "<matplotlib.axes._subplots.AxesSubplot at 0x12f06c02320>"
      ]
     },
     "execution_count": 4,
     "metadata": {},
     "output_type": "execute_result"
    },
    {
     "data": {
      "image/png": "[encoded data removed]",
      "text/plain": [
       "<matplotlib.figure.Figure at 0x12f02e1ac50>"
      ]
     },
     "metadata": {},
     "output_type": "display_data"
    }
   ],
   "source": [
    "# Now lets check the class distributions\n",
    "sns.countplot(\"Class\",data=data)"
   ]
  },
  {
   "cell_type": "code",
   "execution_count": 5,
   "metadata": {
    "collapsed": false
   },
   "outputs": [
    {
     "name": "stdout",
     "output_type": "stream",
     "text": [
      "percentage of normal transacation is 99.82725143693798\n",
      "percentage of fraud transacation 0.1727485630620034\n"
     ]
    }
   ],
   "source": [
    "# now let us check in the number of Percentage\n",
    "Count_Normal_transacation = len(data[data[\"Class\"]==0]) # normal transaction are repersented by 0\n",
    "Count_Fraud_transacation = len(data[data[\"Class\"]==1]) # fraud by 1\n",
    "Percentage_of_Normal_transacation = Count_Normal_transacation/(Count_Normal_transacation+Count_Fraud_transacation)\n",
    "print(\"percentage of normal transacation is\",Percentage_of_Normal_transacation*100)\n",
    "Percentage_of_Fraud_transacation= Count_Fraud_transacation/(Count_Normal_transacation+Count_Fraud_transacation)\n",
    "print(\"percentage of fraud transacation\",Percentage_of_Fraud_transacation*100)"
   ]
  },
  {
   "cell_type": "code",
   "execution_count": 6,
   "metadata": {
    "collapsed": false
   },
   "outputs": [
    {
     "data": {
      "text/plain": [
       "<matplotlib.axes._subplots.AxesSubplot at 0x12f08b03f60>"
      ]
     },
     "execution_count": 6,
     "metadata": {},
     "output_type": "execute_result"
    },
    {
     "data": {
      "image/png": "[encoded data removed]",
      "text/plain": [
       "<matplotlib.figure.Figure at 0x12f02e26668>"
      ]
     },
     "metadata": {},
     "output_type": "display_data"
    }
   ],
   "source": [
    "Fraud_transacation = data[data[\"Class\"]==1]\n",
    "Normal_transacation= data[data[\"Class\"]==0]\n",
    "plt.figure(figsize=(10,6))\n",
    "plt.subplot(121)\n",
    "Fraud_transacation.Amount.plot.hist(title=\"Fraud Transacation\")\n",
    "plt.subplot(122)\n",
    "Normal_transacation.Amount.plot.hist(title=\"Normal Transaction\")"
   ]
  },
  {
   "cell_type": "code",
   "execution_count": 7,
   "metadata": {
    "collapsed": false
   },
   "outputs": [
    {
     "data": {
      "text/plain": [
       "<matplotlib.axes._subplots.AxesSubplot at 0x12f0a46ef98>"
      ]
     },
     "execution_count": 7,
     "metadata": {},
     "output_type": "execute_result"
    },
    {
     "data": {
      "image/png": "[encoded data removed]",
      "text/plain": [
       "<matplotlib.figure.Figure at 0x12f07707390>"
      ]
     },
     "metadata": {},
     "output_type": "display_data"
    }
   ],
   "source": [
    "# the distribution for Normal transction is not clear and it seams that all transaction are less than 2.5 K\n",
    "# So plot graph for same \n",
    "Fraud_transacation = data[data[\"Class\"]==1]\n",
    "Normal_transacation= data[data[\"Class\"]==0]\n",
    "plt.figure(figsize=(10,6))\n",
    "plt.subplot(121)\n",
    "Fraud_transacation[Fraud_transacation[\"Amount\"]<= 2500].Amount.plot.hist(title=\"Fraud Tranascation\")\n",
    "plt.subplot(122)\n",
    "Normal_transacation[Normal_transacation[\"Amount\"]<=2500].Amount.plot.hist(title=\"Normal Transaction\")"
   ]
  },
  {
   "cell_type": "code",
   "execution_count": 8,
   "metadata": {
    "collapsed": true
   },
   "outputs": [],
   "source": [
    "# for undersampling we need a portion of majority class and will take whole data of minority class\n",
    "# count fraud transaction is the total number of fraud transaction\n",
    "# now lets us see the index of fraud cases\n",
    "fraud_indices= np.array(data[data.Class==1].index)\n",
    "normal_indices = np.array(data[data.Class==0].index)\n",
    "#now let us a define a function for make undersample data with different proportion\n",
    "#different proportion means with different proportion of normal classes of data\n",
    "def undersample(normal_indices,fraud_indices,times):#times denote the normal data = times*fraud data\n",
    "    Normal_indices_undersample = np.array(np.random.choice(normal_indices,(times*Count_Fraud_transacation),replace=False))\n",
    "    undersample_data= np.concatenate([fraud_indices,Normal_indices_undersample])\n",
    "    undersample_data = data.iloc[undersample_data,:]\n",
    "    \n",
    "    print(\"the normal transacation proportion is :\",len(undersample_data[undersample_data.Class==0])/len(undersample_data[undersample_data.Class]))\n",
    "    print(\"the fraud transacation proportion is :\",len(undersample_data[undersample_data.Class==1])/len(undersample_data[undersample_data.Class]))\n",
    "    print(\"total number of record in resampled data is:\",len(undersample_data[undersample_data.Class]))\n",
    "    return(undersample_data)"
   ]
  },
  {
   "cell_type": "code",
   "execution_count": 9,
   "metadata": {
    "collapsed": true
   },
   "outputs": [],
   "source": [
    "## first make a model function for modeling with confusion matrix\n",
    "def model(model,features_train,features_test,labels_train,labels_test):\n",
    "    clf= model\n",
    "    clf.fit(features_train,labels_train.values.ravel())\n",
    "    pred=clf.predict(features_test)\n",
    "    cnf_matrix=confusion_matrix(labels_test,pred)\n",
    "    print(\"the recall for this model is :\",cnf_matrix[1,1]/(cnf_matrix[1,1]+cnf_matrix[1,0]))\n",
    "    fig= plt.figure(figsize=(6,3))# to plot the graph\n",
    "    print(\"TP\",cnf_matrix[1,1,]) # no of fraud transaction which are predicted fraud\n",
    "    print(\"TN\",cnf_matrix[0,0]) # no. of normal transaction which are predited normal\n",
    "    print(\"FP\",cnf_matrix[0,1]) # no of normal transaction which are predicted fraud\n",
    "    print(\"FN\",cnf_matrix[1,0]) # no of fraud Transaction which are predicted normal\n",
    "    sns.heatmap(cnf_matrix,cmap=\"coolwarm_r\",annot=True,linewidths=0.5)\n",
    "    plt.title(\"Confusion_matrix\")\n",
    "    plt.xlabel(\"Predicted_class\")\n",
    "    plt.ylabel(\"Real class\")\n",
    "    plt.show()\n",
    "    print(\"\\n----------Classification Report------------------------------------\")\n",
    "    print(classification_report(labels_test,pred))"
   ]
  },
  {
   "cell_type": "code",
   "execution_count": 21,
   "metadata": {
    "collapsed": true
   },
   "outputs": [],
   "source": [
    "def data_prepration(x): # preparing data for training and testing as we are going to use different data \n",
    "    #again and again so make a function\n",
    "    x_features= x.ix[:,x.columns != \"Class\"]\n",
    "    x_labels=x.ix[:,x.columns==\"Class\"]\n",
    "    x_features_train,x_features_test,x_labels_train,x_labels_test = train_test_split(x_features,x_labels,test_size=0.3)\n",
    "    print(\"length of training data\")\n",
    "    print(len(x_features_train))\n",
    "    print(\"length of test data\")\n",
    "    print(len(x_features_test))\n",
    "    return(x_features_train,x_features_test,x_labels_train,x_labels_test)"
   ]
  },
  {
   "cell_type": "code",
   "execution_count": 22,
   "metadata": {
    "collapsed": false
   },
   "outputs": [
    {
     "ename": "KeyError",
     "evalue": "'Amount'",
     "output_type": "error",
     "traceback": [
      "\u001b[0;31m---------------------------------------------------------------------------\u001b[0m",
      "\u001b[0;31mKeyError\u001b[0m                                  Traceback (most recent call last)",
      "\u001b[0;32mC:\\Users\\Ankit\\Anaconda3\\lib\\site-packages\\pandas\\indexes\\base.py\u001b[0m in \u001b[0;36mget_loc\u001b[0;34m(self, key, method, tolerance)\u001b[0m\n\u001b[1;32m   2133\u001b[0m             \u001b[1;32mtry\u001b[0m\u001b[1;33m:\u001b[0m\u001b[1;33m\u001b[0m\u001b[0m\n\u001b[0;32m-> 2134\u001b[0;31m                 \u001b[1;32mreturn\u001b[0m \u001b[0mself\u001b[0m\u001b[1;33m.\u001b[0m\u001b[0m_engine\u001b[0m\u001b[1;33m.\u001b[0m\u001b[0mget_loc\u001b[0m\u001b[1;33m(\u001b[0m\u001b[0mkey\u001b[0m\u001b[1;33m)\u001b[0m\u001b[1;33m\u001b[0m\u001b[0m\n\u001b[0m\u001b[1;32m   2135\u001b[0m             \u001b[1;32mexcept\u001b[0m \u001b[0mKeyError\u001b[0m\u001b[1;33m:\u001b[0m\u001b[1;33m\u001b[0m\u001b[0m\n",
      "\u001b[0;32mpandas\\index.pyx\u001b[0m in \u001b[0;36mpandas.index.IndexEngine.get_loc (pandas\\index.c:4433)\u001b[0;34m()\u001b[0m\n",
      "\u001b[0;32mpandas\\index.pyx\u001b[0m in \u001b[0;36mpandas.index.IndexEngine.get_loc (pandas\\index.c:4279)\u001b[0;34m()\u001b[0m\n",
      "\u001b[0;32mpandas\\src\\hashtable_class_helper.pxi\u001b[0m in \u001b[0;36mpandas.hashtable.PyObjectHashTable.get_item (pandas\\hashtable.c:13742)\u001b[0;34m()\u001b[0m\n",
      "\u001b[0;32mpandas\\src\\hashtable_class_helper.pxi\u001b[0m in \u001b[0;36mpandas.hashtable.PyObjectHashTable.get_item (pandas\\hashtable.c:13696)\u001b[0;34m()\u001b[0m\n",
      "\u001b[0;31mKeyError\u001b[0m: 'Amount'",
      "\nDuring handling of the above exception, another exception occurred:\n",
      "\u001b[0;31mKeyError\u001b[0m                                  Traceback (most recent call last)",
      "\u001b[0;32m<ipython-input-22-62e2948cc8d0>\u001b[0m in \u001b[0;36m<module>\u001b[0;34m()\u001b[0m\n\u001b[1;32m      1\u001b[0m \u001b[1;31m# before starting we should standridze our ampount column\u001b[0m\u001b[1;33m\u001b[0m\u001b[1;33m\u001b[0m\u001b[0m\n\u001b[0;32m----> 2\u001b[0;31m \u001b[0mdata\u001b[0m\u001b[1;33m[\u001b[0m\u001b[1;34m\"Normalized Amount\"\u001b[0m\u001b[1;33m]\u001b[0m \u001b[1;33m=\u001b[0m \u001b[0mStandardScaler\u001b[0m\u001b[1;33m(\u001b[0m\u001b[1;33m)\u001b[0m\u001b[1;33m.\u001b[0m\u001b[0mfit_transform\u001b[0m\u001b[1;33m(\u001b[0m\u001b[0mdata\u001b[0m\u001b[1;33m[\u001b[0m\u001b[1;34m'Amount'\u001b[0m\u001b[1;33m]\u001b[0m\u001b[1;33m.\u001b[0m\u001b[0mreshape\u001b[0m\u001b[1;33m(\u001b[0m\u001b[1;33m-\u001b[0m\u001b[1;36m1\u001b[0m\u001b[1;33m,\u001b[0m \u001b[1;36m1\u001b[0m\u001b[1;33m)\u001b[0m\u001b[1;33m)\u001b[0m\u001b[1;33m\u001b[0m\u001b[0m\n\u001b[0m\u001b[1;32m      3\u001b[0m \u001b[0mdata\u001b[0m\u001b[1;33m.\u001b[0m\u001b[0mdrop\u001b[0m\u001b[1;33m(\u001b[0m\u001b[1;33m[\u001b[0m\u001b[1;34m\"Time\"\u001b[0m\u001b[1;33m,\u001b[0m\u001b[1;34m\"Amount\"\u001b[0m\u001b[1;33m]\u001b[0m\u001b[1;33m,\u001b[0m\u001b[0maxis\u001b[0m\u001b[1;33m=\u001b[0m\u001b[1;36m1\u001b[0m\u001b[1;33m,\u001b[0m\u001b[0minplace\u001b[0m\u001b[1;33m=\u001b[0m\u001b[1;32mTrue\u001b[0m\u001b[1;33m)\u001b[0m\u001b[1;33m\u001b[0m\u001b[0m\n\u001b[1;32m      4\u001b[0m \u001b[0mdata\u001b[0m\u001b[1;33m.\u001b[0m\u001b[0mhead\u001b[0m\u001b[1;33m(\u001b[0m\u001b[1;33m)\u001b[0m\u001b[1;33m\u001b[0m\u001b[0m\n",
      "\u001b[0;32mC:\\Users\\Ankit\\Anaconda3\\lib\\site-packages\\pandas\\core\\frame.py\u001b[0m in \u001b[0;36m__getitem__\u001b[0;34m(self, key)\u001b[0m\n\u001b[1;32m   2057\u001b[0m             \u001b[1;32mreturn\u001b[0m \u001b[0mself\u001b[0m\u001b[1;33m.\u001b[0m\u001b[0m_getitem_multilevel\u001b[0m\u001b[1;33m(\u001b[0m\u001b[0mkey\u001b[0m\u001b[1;33m)\u001b[0m\u001b[1;33m\u001b[0m\u001b[0m\n\u001b[1;32m   2058\u001b[0m         \u001b[1;32melse\u001b[0m\u001b[1;33m:\u001b[0m\u001b[1;33m\u001b[0m\u001b[0m\n\u001b[0;32m-> 2059\u001b[0;31m             \u001b[1;32mreturn\u001b[0m \u001b[0mself\u001b[0m\u001b[1;33m.\u001b[0m\u001b[0m_getitem_column\u001b[0m\u001b[1;33m(\u001b[0m\u001b[0mkey\u001b[0m\u001b[1;33m)\u001b[0m\u001b[1;33m\u001b[0m\u001b[0m\n\u001b[0m\u001b[1;32m   2060\u001b[0m \u001b[1;33m\u001b[0m\u001b[0m\n\u001b[1;32m   2061\u001b[0m     \u001b[1;32mdef\u001b[0m \u001b[0m_getitem_column\u001b[0m\u001b[1;33m(\u001b[0m\u001b[0mself\u001b[0m\u001b[1;33m,\u001b[0m \u001b[0mkey\u001b[0m\u001b[1;33m)\u001b[0m\u001b[1;33m:\u001b[0m\u001b[1;33m\u001b[0m\u001b[0m\n",
      "\u001b[0;32mC:\\Users\\Ankit\\Anaconda3\\lib\\site-packages\\pandas\\core\\frame.py\u001b[0m in \u001b[0;36m_getitem_column\u001b[0;34m(self, key)\u001b[0m\n\u001b[1;32m   2064\u001b[0m         \u001b[1;31m# get column\u001b[0m\u001b[1;33m\u001b[0m\u001b[1;33m\u001b[0m\u001b[0m\n\u001b[1;32m   2065\u001b[0m         \u001b[1;32mif\u001b[0m \u001b[0mself\u001b[0m\u001b[1;33m.\u001b[0m\u001b[0mcolumns\u001b[0m\u001b[1;33m.\u001b[0m\u001b[0mis_unique\u001b[0m\u001b[1;33m:\u001b[0m\u001b[1;33m\u001b[0m\u001b[0m\n\u001b[0;32m-> 2066\u001b[0;31m             \u001b[1;32mreturn\u001b[0m \u001b[0mself\u001b[0m\u001b[1;33m.\u001b[0m\u001b[0m_get_item_cache\u001b[0m\u001b[1;33m(\u001b[0m\u001b[0mkey\u001b[0m\u001b[1;33m)\u001b[0m\u001b[1;33m\u001b[0m\u001b[0m\n\u001b[0m\u001b[1;32m   2067\u001b[0m \u001b[1;33m\u001b[0m\u001b[0m\n\u001b[1;32m   2068\u001b[0m         \u001b[1;31m# duplicate columns & possible reduce dimensionality\u001b[0m\u001b[1;33m\u001b[0m\u001b[1;33m\u001b[0m\u001b[0m\n",
      "\u001b[0;32mC:\\Users\\Ankit\\Anaconda3\\lib\\site-packages\\pandas\\core\\generic.py\u001b[0m in \u001b[0;36m_get_item_cache\u001b[0;34m(self, item)\u001b[0m\n\u001b[1;32m   1384\u001b[0m         \u001b[0mres\u001b[0m \u001b[1;33m=\u001b[0m \u001b[0mcache\u001b[0m\u001b[1;33m.\u001b[0m\u001b[0mget\u001b[0m\u001b[1;33m(\u001b[0m\u001b[0mitem\u001b[0m\u001b[1;33m)\u001b[0m\u001b[1;33m\u001b[0m\u001b[0m\n\u001b[1;32m   1385\u001b[0m         \u001b[1;32mif\u001b[0m \u001b[0mres\u001b[0m \u001b[1;32mis\u001b[0m \u001b[1;32mNone\u001b[0m\u001b[1;33m:\u001b[0m\u001b[1;33m\u001b[0m\u001b[0m\n\u001b[0;32m-> 1386\u001b[0;31m             \u001b[0mvalues\u001b[0m \u001b[1;33m=\u001b[0m \u001b[0mself\u001b[0m\u001b[1;33m.\u001b[0m\u001b[0m_data\u001b[0m\u001b[1;33m.\u001b[0m\u001b[0mget\u001b[0m\u001b[1;33m(\u001b[0m\u001b[0mitem\u001b[0m\u001b[1;33m)\u001b[0m\u001b[1;33m\u001b[0m\u001b[0m\n\u001b[0m\u001b[1;32m   1387\u001b[0m             \u001b[0mres\u001b[0m \u001b[1;33m=\u001b[0m \u001b[0mself\u001b[0m\u001b[1;33m.\u001b[0m\u001b[0m_box_item_values\u001b[0m\u001b[1;33m(\u001b[0m\u001b[0mitem\u001b[0m\u001b[1;33m,\u001b[0m \u001b[0mvalues\u001b[0m\u001b[1;33m)\u001b[0m\u001b[1;33m\u001b[0m\u001b[0m\n\u001b[1;32m   1388\u001b[0m             \u001b[0mcache\u001b[0m\u001b[1;33m[\u001b[0m\u001b[0mitem\u001b[0m\u001b[1;33m]\u001b[0m \u001b[1;33m=\u001b[0m \u001b[0mres\u001b[0m\u001b[1;33m\u001b[0m\u001b[0m\n",
      "\u001b[0;32mC:\\Users\\Ankit\\Anaconda3\\lib\\site-packages\\pandas\\core\\internals.py\u001b[0m in \u001b[0;36mget\u001b[0;34m(self, item, fastpath)\u001b[0m\n\u001b[1;32m   3541\u001b[0m \u001b[1;33m\u001b[0m\u001b[0m\n\u001b[1;32m   3542\u001b[0m             \u001b[1;32mif\u001b[0m \u001b[1;32mnot\u001b[0m \u001b[0misnull\u001b[0m\u001b[1;33m(\u001b[0m\u001b[0mitem\u001b[0m\u001b[1;33m)\u001b[0m\u001b[1;33m:\u001b[0m\u001b[1;33m\u001b[0m\u001b[0m\n\u001b[0;32m-> 3543\u001b[0;31m                 \u001b[0mloc\u001b[0m \u001b[1;33m=\u001b[0m \u001b[0mself\u001b[0m\u001b[1;33m.\u001b[0m\u001b[0mitems\u001b[0m\u001b[1;33m.\u001b[0m\u001b[0mget_loc\u001b[0m\u001b[1;33m(\u001b[0m\u001b[0mitem\u001b[0m\u001b[1;33m)\u001b[0m\u001b[1;33m\u001b[0m\u001b[0m\n\u001b[0m\u001b[1;32m   3544\u001b[0m             \u001b[1;32melse\u001b[0m\u001b[1;33m:\u001b[0m\u001b[1;33m\u001b[0m\u001b[0m\n\u001b[1;32m   3545\u001b[0m                 \u001b[0mindexer\u001b[0m \u001b[1;33m=\u001b[0m \u001b[0mnp\u001b[0m\u001b[1;33m.\u001b[0m\u001b[0marange\u001b[0m\u001b[1;33m(\u001b[0m\u001b[0mlen\u001b[0m\u001b[1;33m(\u001b[0m\u001b[0mself\u001b[0m\u001b[1;33m.\u001b[0m\u001b[0mitems\u001b[0m\u001b[1;33m)\u001b[0m\u001b[1;33m)\u001b[0m\u001b[1;33m[\u001b[0m\u001b[0misnull\u001b[0m\u001b[1;33m(\u001b[0m\u001b[0mself\u001b[0m\u001b[1;33m.\u001b[0m\u001b[0mitems\u001b[0m\u001b[1;33m)\u001b[0m\u001b[1;33m]\u001b[0m\u001b[1;33m\u001b[0m\u001b[0m\n",
      "\u001b[0;32mC:\\Users\\Ankit\\Anaconda3\\lib\\site-packages\\pandas\\indexes\\base.py\u001b[0m in \u001b[0;36mget_loc\u001b[0;34m(self, key, method, tolerance)\u001b[0m\n\u001b[1;32m   2134\u001b[0m                 \u001b[1;32mreturn\u001b[0m \u001b[0mself\u001b[0m\u001b[1;33m.\u001b[0m\u001b[0m_engine\u001b[0m\u001b[1;33m.\u001b[0m\u001b[0mget_loc\u001b[0m\u001b[1;33m(\u001b[0m\u001b[0mkey\u001b[0m\u001b[1;33m)\u001b[0m\u001b[1;33m\u001b[0m\u001b[0m\n\u001b[1;32m   2135\u001b[0m             \u001b[1;32mexcept\u001b[0m \u001b[0mKeyError\u001b[0m\u001b[1;33m:\u001b[0m\u001b[1;33m\u001b[0m\u001b[0m\n\u001b[0;32m-> 2136\u001b[0;31m                 \u001b[1;32mreturn\u001b[0m \u001b[0mself\u001b[0m\u001b[1;33m.\u001b[0m\u001b[0m_engine\u001b[0m\u001b[1;33m.\u001b[0m\u001b[0mget_loc\u001b[0m\u001b[1;33m(\u001b[0m\u001b[0mself\u001b[0m\u001b[1;33m.\u001b[0m\u001b[0m_maybe_cast_indexer\u001b[0m\u001b[1;33m(\u001b[0m\u001b[0mkey\u001b[0m\u001b[1;33m)\u001b[0m\u001b[1;33m)\u001b[0m\u001b[1;33m\u001b[0m\u001b[0m\n\u001b[0m\u001b[1;32m   2137\u001b[0m \u001b[1;33m\u001b[0m\u001b[0m\n\u001b[1;32m   2138\u001b[0m         \u001b[0mindexer\u001b[0m \u001b[1;33m=\u001b[0m \u001b[0mself\u001b[0m\u001b[1;33m.\u001b[0m\u001b[0mget_indexer\u001b[0m\u001b[1;33m(\u001b[0m\u001b[1;33m[\u001b[0m\u001b[0mkey\u001b[0m\u001b[1;33m]\u001b[0m\u001b[1;33m,\u001b[0m \u001b[0mmethod\u001b[0m\u001b[1;33m=\u001b[0m\u001b[0mmethod\u001b[0m\u001b[1;33m,\u001b[0m \u001b[0mtolerance\u001b[0m\u001b[1;33m=\u001b[0m\u001b[0mtolerance\u001b[0m\u001b[1;33m)\u001b[0m\u001b[1;33m\u001b[0m\u001b[0m\n",
      "\u001b[0;32mpandas\\index.pyx\u001b[0m in \u001b[0;36mpandas.index.IndexEngine.get_loc (pandas\\index.c:4433)\u001b[0;34m()\u001b[0m\n",
      "\u001b[0;32mpandas\\index.pyx\u001b[0m in \u001b[0;36mpandas.index.IndexEngine.get_loc (pandas\\index.c:4279)\u001b[0;34m()\u001b[0m\n",
      "\u001b[0;32mpandas\\src\\hashtable_class_helper.pxi\u001b[0m in \u001b[0;36mpandas.hashtable.PyObjectHashTable.get_item (pandas\\hashtable.c:13742)\u001b[0;34m()\u001b[0m\n",
      "\u001b[0;32mpandas\\src\\hashtable_class_helper.pxi\u001b[0m in \u001b[0;36mpandas.hashtable.PyObjectHashTable.get_item (pandas\\hashtable.c:13696)\u001b[0;34m()\u001b[0m\n",
      "\u001b[0;31mKeyError\u001b[0m: 'Amount'"
     ]
    }
   ],
   "source": [
    "# before starting we should standridze our ampount column\n",
    "data[\"Normalized Amount\"] = StandardScaler().fit_transform(data['Amount'].reshape(-1, 1))\n",
    "data.drop([\"Time\",\"Amount\"],axis=1,inplace=True)\n",
    "data.head()"
   ]
  },
  {
   "cell_type": "code",
   "execution_count": 23,
   "metadata": {
    "collapsed": false
   },
   "outputs": [
    {
     "name": "stdout",
     "output_type": "stream",
     "text": [
      "the undersample data for 1 proportion\n",
      "\n",
      "the normal transacation proportion is : 0.5\n",
      "the fraud transacation proportion is : 0.5\n",
      "total number of record in resampled data is: 984\n",
      "------------------------------------------------------------\n",
      "\n",
      "the model classification for 1 proportion\n",
      "\n",
      "length of training data\n",
      "688\n",
      "length of test data\n",
      "296\n",
      "\n",
      "the recall for this model is : 0.913907284768\n",
      "TP 138\n",
      "TN 140\n",
      "FP 5\n",
      "FN 13\n"
     ]
    },
    {
     "data": {
      "image/png": "[encoded data removed]",
      "text/plain": [
       "<matplotlib.figure.Figure at 0x1bd53be0c50>"
      ]
     },
     "metadata": {},
     "output_type": "display_data"
    },
    {
     "name": "stdout",
     "output_type": "stream",
     "text": [
      "\n",
      "----------Classification Report------------------------------------\n",
      "             precision    recall  f1-score   support\n",
      "\n",
      "          0       0.92      0.97      0.94       145\n",
      "          1       0.97      0.91      0.94       151\n",
      "\n",
      "avg / total       0.94      0.94      0.94       296\n",
      "\n",
      "________________________________________________________________________________________________________\n",
      "the undersample data for 2 proportion\n",
      "\n",
      "the normal transacation proportion is : 0.6666666666666666\n",
      "the fraud transacation proportion is : 0.3333333333333333\n",
      "total number of record in resampled data is: 1476\n",
      "------------------------------------------------------------\n",
      "\n",
      "the model classification for 2 proportion\n",
      "\n",
      "length of training data\n",
      "1033\n",
      "length of test data\n",
      "443\n",
      "\n",
      "the recall for this model is : 0.911764705882\n",
      "TP 124\n",
      "TN 301\n",
      "FP 6\n",
      "FN 12\n"
     ]
    },
    {
     "data": {
      "image/png": "[encoded data removed]",
      "text/plain": [
       "<matplotlib.figure.Figure at 0x1bd5d66f240>"
      ]
     },
     "metadata": {},
     "output_type": "display_data"
    },
    {
     "name": "stdout",
     "output_type": "stream",
     "text": [
      "\n",
      "----------Classification Report------------------------------------\n",
      "             precision    recall  f1-score   support\n",
      "\n",
      "          0       0.96      0.98      0.97       307\n",
      "          1       0.95      0.91      0.93       136\n",
      "\n",
      "avg / total       0.96      0.96      0.96       443\n",
      "\n",
      "________________________________________________________________________________________________________\n",
      "the undersample data for 3 proportion\n",
      "\n",
      "the normal transacation proportion is : 0.75\n",
      "the fraud transacation proportion is : 0.25\n",
      "total number of record in resampled data is: 1968\n",
      "------------------------------------------------------------\n",
      "\n",
      "the model classification for 3 proportion\n",
      "\n",
      "length of training data\n",
      "1377\n",
      "length of test data\n",
      "591\n",
      "\n",
      "the recall for this model is : 0.891304347826\n",
      "TP 123\n",
      "TN 448\n",
      "FP 5\n",
      "FN 15\n"
     ]
    },
    {
     "data": {
      "image/png": "[encoded data removed]",
      "text/plain": [
       "<matplotlib.figure.Figure at 0x1bd5b421c50>"
      ]
     },
     "metadata": {},
     "output_type": "display_data"
    },
    {
     "name": "stdout",
     "output_type": "stream",
     "text": [
      "\n",
      "----------Classification Report------------------------------------\n",
      "             precision    recall  f1-score   support\n",
      "\n",
      "          0       0.97      0.99      0.98       453\n",
      "          1       0.96      0.89      0.92       138\n",
      "\n",
      "avg / total       0.97      0.97      0.97       591\n",
      "\n",
      "________________________________________________________________________________________________________\n"
     ]
    }
   ],
   "source": [
    "# Now make undersample data with differnt portion\n",
    "# here i will take normal trasaction in  0..5 %, 0.66% and 0.75 % proportion of total data now do this for \n",
    "for i in range(1,4):\n",
    "    print(\"the undersample data for {} proportion\".format(i))\n",
    "    print()\n",
    "    Undersample_data = undersample(normal_indices,fraud_indices,i)\n",
    "    print(\"------------------------------------------------------------\")\n",
    "    print()\n",
    "    print(\"the model classification for {} proportion\".format(i))\n",
    "    print()\n",
    "    undersample_features_train,undersample_features_test,undersample_labels_train,undersample_labels_test=data_prepration(Undersample_data)\n",
    "    print()\n",
    "    clf=LogisticRegression()\n",
    "    model(clf,undersample_features_train,undersample_features_test,undersample_labels_train,undersample_labels_test)\n",
    "    print(\"________________________________________________________________________________________________________\")\n",
    "    \n",
    "# here 1st proportion conatain 50% normal transaction\n",
    "#Proportion 2nd contains 66% noraml transaction\n",
    "#proportion 3rd contains 75 % normal transaction"
   ]
  },
  {
   "cell_type": "code",
   "execution_count": 24,
   "metadata": {
    "collapsed": false
   },
   "outputs": [
    {
     "name": "stdout",
     "output_type": "stream",
     "text": [
      "the undersample data for 1 proportion\n",
      "\n",
      "the normal transacation proportion is : 0.5\n",
      "the fraud transacation proportion is : 0.5\n",
      "total number of record in resampled data is: 984\n",
      "------------------------------------------------------------\n",
      "\n",
      "the model classification for 1 proportion\n",
      "\n",
      "length of training data\n",
      "688\n",
      "length of test data\n",
      "296\n",
      "length of training data\n",
      "199364\n",
      "length of test data\n",
      "85443\n",
      "\n",
      "the recall for this model is : 0.913669064748\n",
      "TP 127\n",
      "TN 82939\n",
      "FP 2365\n",
      "FN 12\n"
     ]
    },
    {
     "data": {
      "image/png": "[encoded data removed]",
      "text/plain": [
       "<matplotlib.figure.Figure at 0x1bd5d66fb70>"
      ]
     },
     "metadata": {},
     "output_type": "display_data"
    },
    {
     "name": "stdout",
     "output_type": "stream",
     "text": [
      "\n",
      "----------Classification Report------------------------------------\n",
      "             precision    recall  f1-score   support\n",
      "\n",
      "          0       1.00      0.97      0.99     85304\n",
      "          1       0.05      0.91      0.10       139\n",
      "\n",
      "avg / total       1.00      0.97      0.98     85443\n",
      "\n",
      "_________________________________________________________________________________________\n",
      "the undersample data for 2 proportion\n",
      "\n",
      "the normal transacation proportion is : 0.6666666666666666\n",
      "the fraud transacation proportion is : 0.3333333333333333\n",
      "total number of record in resampled data is: 1476\n",
      "------------------------------------------------------------\n",
      "\n",
      "the model classification for 2 proportion\n",
      "\n",
      "length of training data\n",
      "1033\n",
      "length of test data\n",
      "443\n",
      "length of training data\n",
      "199364\n",
      "length of test data\n",
      "85443\n",
      "\n",
      "the recall for this model is : 0.924137931034\n",
      "TP 134\n",
      "TN 83319\n",
      "FP 1979\n",
      "FN 11\n"
     ]
    },
    {
     "data": {
      "image/png": "[encoded data removed]",
      "text/plain": [
       "<matplotlib.figure.Figure at 0x1bd5b632320>"
      ]
     },
     "metadata": {},
     "output_type": "display_data"
    },
    {
     "name": "stdout",
     "output_type": "stream",
     "text": [
      "\n",
      "----------Classification Report------------------------------------\n",
      "             precision    recall  f1-score   support\n",
      "\n",
      "          0       1.00      0.98      0.99     85298\n",
      "          1       0.06      0.92      0.12       145\n",
      "\n",
      "avg / total       1.00      0.98      0.99     85443\n",
      "\n",
      "_________________________________________________________________________________________\n",
      "the undersample data for 3 proportion\n",
      "\n",
      "the normal transacation proportion is : 0.75\n",
      "the fraud transacation proportion is : 0.25\n",
      "total number of record in resampled data is: 1968\n",
      "------------------------------------------------------------\n",
      "\n",
      "the model classification for 3 proportion\n",
      "\n",
      "length of training data\n",
      "1377\n",
      "length of test data\n",
      "591\n",
      "length of training data\n",
      "199364\n",
      "length of test data\n",
      "85443\n",
      "\n",
      "the recall for this model is : 0.884892086331\n",
      "TP 123\n",
      "TN 84378\n",
      "FP 926\n",
      "FN 16\n"
     ]
    },
    {
     "data": {
      "image/png": "[encoded data removed]",
      "text/plain": [
       "<matplotlib.figure.Figure at 0x1bd5c39bf28>"
      ]
     },
     "metadata": {},
     "output_type": "display_data"
    },
    {
     "name": "stdout",
     "output_type": "stream",
     "text": [
      "\n",
      "----------Classification Report------------------------------------\n",
      "             precision    recall  f1-score   support\n",
      "\n",
      "          0       1.00      0.99      0.99     85304\n",
      "          1       0.12      0.88      0.21       139\n",
      "\n",
      "avg / total       1.00      0.99      0.99     85443\n",
      "\n",
      "_________________________________________________________________________________________\n"
     ]
    }
   ],
   "source": [
    "#let us train this model using undersample data and test for the whole data test set \n",
    "for i in range(1,4):\n",
    "    print(\"the undersample data for {} proportion\".format(i))\n",
    "    print()\n",
    "    Undersample_data = undersample(normal_indices,fraud_indices,i)\n",
    "    print(\"------------------------------------------------------------\")\n",
    "    print()\n",
    "    print(\"the model classification for {} proportion\".format(i))\n",
    "    print()\n",
    "    undersample_features_train,undersample_features_test,undersample_labels_train,undersample_labels_test=data_prepration(Undersample_data)\n",
    "    data_features_train,data_features_test,data_labels_train,data_labels_test=data_prepration(data) \n",
    "    #the partion for whole data\n",
    "    print()\n",
    "    clf=LogisticRegression()\n",
    "    model(clf,undersample_features_train,data_features_test,undersample_labels_train,data_labels_test)\n",
    "    # here training for the undersample data but tatsing for whole data\n",
    "    print(\"_________________________________________________________________________________________\")"
   ]
  },
  {
   "cell_type": "code",
   "execution_count": 27,
   "metadata": {
    "collapsed": false
   },
   "outputs": [
    {
     "name": "stdout",
     "output_type": "stream",
     "text": [
      "the undersample data for 1 proportion\n",
      "\n",
      "the normal transacation proportion is : 0.5\n",
      "the fraud transacation proportion is : 0.5\n",
      "total number of record in resampled data is: 984\n",
      "------------------------------------------------------------\n",
      "\n",
      "the model classification for 1 proportion\n",
      "\n",
      "length of training data\n",
      "688\n",
      "length of test data\n",
      "296\n",
      "\n",
      "the recall for this model is : 0.912751677852\n",
      "TP 136\n",
      "TN 138\n",
      "FP 9\n",
      "FN 13\n"
     ]
    },
    {
     "data": {
      "image/png": "[encoded data removed]",
      "text/plain": [
       "<matplotlib.figure.Figure at 0x1bd5aee0390>"
      ]
     },
     "metadata": {},
     "output_type": "display_data"
    },
    {
     "name": "stdout",
     "output_type": "stream",
     "text": [
      "\n",
      "----------Classification Report------------------------------------\n",
      "             precision    recall  f1-score   support\n",
      "\n",
      "          0       0.91      0.94      0.93       147\n",
      "          1       0.94      0.91      0.93       149\n",
      "\n",
      "avg / total       0.93      0.93      0.93       296\n",
      "\n",
      "________________________________________________________________________________________________________\n",
      "the undersample data for 2 proportion\n",
      "\n",
      "the normal transacation proportion is : 0.6666666666666666\n",
      "the fraud transacation proportion is : 0.3333333333333333\n",
      "total number of record in resampled data is: 1476\n",
      "------------------------------------------------------------\n",
      "\n",
      "the model classification for 2 proportion\n",
      "\n",
      "length of training data\n",
      "1033\n",
      "length of test data\n",
      "443\n",
      "\n",
      "the recall for this model is : 0.866197183099\n",
      "TP 123\n",
      "TN 293\n",
      "FP 8\n",
      "FN 19\n"
     ]
    },
    {
     "data": {
      "image/png": "[encoded data removed]",
      "text/plain": [
       "<matplotlib.figure.Figure at 0x1bd5aee0710>"
      ]
     },
     "metadata": {},
     "output_type": "display_data"
    },
    {
     "name": "stdout",
     "output_type": "stream",
     "text": [
      "\n",
      "----------Classification Report------------------------------------\n",
      "             precision    recall  f1-score   support\n",
      "\n",
      "          0       0.94      0.97      0.96       301\n",
      "          1       0.94      0.87      0.90       142\n",
      "\n",
      "avg / total       0.94      0.94      0.94       443\n",
      "\n",
      "________________________________________________________________________________________________________\n",
      "the undersample data for 3 proportion\n",
      "\n",
      "the normal transacation proportion is : 0.75\n",
      "the fraud transacation proportion is : 0.25\n",
      "total number of record in resampled data is: 1968\n",
      "------------------------------------------------------------\n",
      "\n",
      "the model classification for 3 proportion\n",
      "\n",
      "length of training data\n",
      "1377\n",
      "length of test data\n",
      "591\n",
      "\n",
      "the recall for this model is : 0.849673202614\n",
      "TP 130\n",
      "TN 429\n",
      "FP 9\n",
      "FN 23\n"
     ]
    },
    {
     "data": {
      "image/png": "[encoded data removed]",
      "text/plain": [
       "<matplotlib.figure.Figure at 0x1bd5ae20a90>"
      ]
     },
     "metadata": {},
     "output_type": "display_data"
    },
    {
     "name": "stdout",
     "output_type": "stream",
     "text": [
      "\n",
      "----------Classification Report------------------------------------\n",
      "             precision    recall  f1-score   support\n",
      "\n",
      "          0       0.95      0.98      0.96       438\n",
      "          1       0.94      0.85      0.89       153\n",
      "\n",
      "avg / total       0.95      0.95      0.94       591\n",
      "\n",
      "________________________________________________________________________________________________________\n"
     ]
    }
   ],
   "source": [
    "#SVM with Undersample data\n",
    "for i in range(1,4):\n",
    "    print(\"the undersample data for {} proportion\".format(i))\n",
    "    print()\n",
    "    Undersample_data = undersample(normal_indices,fraud_indices,i)\n",
    "    print(\"------------------------------------------------------------\")\n",
    "    print()\n",
    "    print(\"the model classification for {} proportion\".format(i))\n",
    "    print()\n",
    "    undersample_features_train,undersample_features_test,undersample_labels_train,undersample_labels_test=data_prepration(Undersample_data)\n",
    "    print()\n",
    "    clf= SVC()# here we are just changing classifier\n",
    "    model(clf,undersample_features_train,undersample_features_test,undersample_labels_train,undersample_labels_test)\n",
    "    print(\"________________________________________________________________________________________________________\")\n",
    "    "
   ]
  },
  {
   "cell_type": "code",
   "execution_count": 28,
   "metadata": {
    "collapsed": false
   },
   "outputs": [
    {
     "name": "stdout",
     "output_type": "stream",
     "text": [
      "the undersample data for 1 proportion\n",
      "\n",
      "the normal transacation proportion is : 0.5\n",
      "the fraud transacation proportion is : 0.5\n",
      "total number of record in resampled data is: 984\n",
      "------------------------------------------------------------\n",
      "\n",
      "the model classification for 1 proportion\n",
      "\n",
      "length of training data\n",
      "688\n",
      "length of test data\n",
      "296\n",
      "length of training data\n",
      "199364\n",
      "length of test data\n",
      "85443\n",
      "\n",
      "the recall for this model is : 0.906040268456\n",
      "TP 135\n",
      "TN 81071\n",
      "FP 4223\n",
      "FN 14\n"
     ]
    },
    {
     "data": {
      "image/png": "[encoded data removed]",
      "text/plain": [
       "<matplotlib.figure.Figure at 0x1bd5b349630>"
      ]
     },
     "metadata": {},
     "output_type": "display_data"
    },
    {
     "name": "stdout",
     "output_type": "stream",
     "text": [
      "\n",
      "----------Classification Report------------------------------------\n",
      "             precision    recall  f1-score   support\n",
      "\n",
      "          0       1.00      0.95      0.97     85294\n",
      "          1       0.03      0.91      0.06       149\n",
      "\n",
      "avg / total       1.00      0.95      0.97     85443\n",
      "\n",
      "_________________________________________________________________________________________\n",
      "the undersample data for 2 proportion\n",
      "\n",
      "the normal transacation proportion is : 0.6666666666666666\n",
      "the fraud transacation proportion is : 0.3333333333333333\n",
      "total number of record in resampled data is: 1476\n",
      "------------------------------------------------------------\n",
      "\n",
      "the model classification for 2 proportion\n",
      "\n",
      "length of training data\n",
      "1033\n",
      "length of test data\n",
      "443\n",
      "length of training data\n",
      "199364\n",
      "length of test data\n",
      "85443\n",
      "\n",
      "the recall for this model is : 0.93125\n",
      "TP 149\n",
      "TN 82275\n",
      "FP 3008\n",
      "FN 11\n"
     ]
    },
    {
     "data": {
      "image/png": "[encoded data removed]",
      "text/plain": [
       "<matplotlib.figure.Figure at 0x1bd5ae234a8>"
      ]
     },
     "metadata": {},
     "output_type": "display_data"
    },
    {
     "name": "stdout",
     "output_type": "stream",
     "text": [
      "\n",
      "----------Classification Report------------------------------------\n",
      "             precision    recall  f1-score   support\n",
      "\n",
      "          0       1.00      0.96      0.98     85283\n",
      "          1       0.05      0.93      0.09       160\n",
      "\n",
      "avg / total       1.00      0.96      0.98     85443\n",
      "\n",
      "_________________________________________________________________________________________\n",
      "the undersample data for 3 proportion\n",
      "\n",
      "the normal transacation proportion is : 0.75\n",
      "the fraud transacation proportion is : 0.25\n",
      "total number of record in resampled data is: 1968\n",
      "------------------------------------------------------------\n",
      "\n",
      "the model classification for 3 proportion\n",
      "\n",
      "length of training data\n",
      "1377\n",
      "length of test data\n",
      "591\n",
      "length of training data\n",
      "199364\n",
      "length of test data\n",
      "85443\n",
      "\n",
      "the recall for this model is : 0.921428571429\n",
      "TP 129\n",
      "TN 83370\n",
      "FP 1933\n",
      "FN 11\n"
     ]
    },
    {
     "data": {
      "image/png": "[encoded data removed]",
      "text/plain": [
       "<matplotlib.figure.Figure at 0x1bd5b6317f0>"
      ]
     },
     "metadata": {},
     "output_type": "display_data"
    },
    {
     "name": "stdout",
     "output_type": "stream",
     "text": [
      "\n",
      "----------Classification Report------------------------------------\n",
      "             precision    recall  f1-score   support\n",
      "\n",
      "          0       1.00      0.98      0.99     85303\n",
      "          1       0.06      0.92      0.12       140\n",
      "\n",
      "avg / total       1.00      0.98      0.99     85443\n",
      "\n",
      "_________________________________________________________________________________________\n"
     ]
    }
   ],
   "source": [
    "#let us train this model using undersample data and test for the whole data test set \n",
    "for i in range(1,4):\n",
    "    print(\"the undersample data for {} proportion\".format(i))\n",
    "    print()\n",
    "    Undersample_data = undersample(normal_indices,fraud_indices,i)\n",
    "    print(\"------------------------------------------------------------\")\n",
    "    print()\n",
    "    print(\"the model classification for {} proportion\".format(i))\n",
    "    print()\n",
    "    undersample_features_train,undersample_features_test,undersample_labels_train,undersample_labels_test=data_prepration(Undersample_data)\n",
    "    data_features_train,data_features_test,data_labels_train,data_labels_test=data_prepration(data) \n",
    "    #the partion for whole data\n",
    "    print()\n",
    "    clf=SVC()\n",
    "    model(clf,undersample_features_train,data_features_test,undersample_labels_train,data_labels_test)\n",
    "    # here training for the undersample data but tatsing for whole data\n",
    "    print(\"_________________________________________________________________________________________\")\n"
   ]
  },
  {
   "cell_type": "code",
   "execution_count": 29,
   "metadata": {
    "collapsed": false
   },
   "outputs": [
    {
     "name": "stdout",
     "output_type": "stream",
     "text": [
      "the undersample data for 1 proportion\n",
      "\n",
      "the normal transacation proportion is : 0.5\n",
      "the fraud transacation proportion is : 0.5\n",
      "total number of record in resampled data is: 984\n",
      "------------------------------------------------------------\n",
      "\n",
      "the model classification for 1 proportion\n",
      "\n",
      "length of training data\n",
      "688\n",
      "length of test data\n",
      "296\n",
      "\n",
      "the recall for this model is : 0.875816993464\n",
      "TP 134\n",
      "TN 141\n",
      "FP 2\n",
      "FN 19\n"
     ]
    },
    {
     "data": {
      "image/png": "[encoded data removed]",
      "text/plain": [
       "<matplotlib.figure.Figure at 0x1bd5ad7f978>"
      ]
     },
     "metadata": {},
     "output_type": "display_data"
    },
    {
     "name": "stdout",
     "output_type": "stream",
     "text": [
      "\n",
      "----------Classification Report------------------------------------\n",
      "             precision    recall  f1-score   support\n",
      "\n",
      "          0       0.88      0.99      0.93       143\n",
      "          1       0.99      0.88      0.93       153\n",
      "\n",
      "avg / total       0.94      0.93      0.93       296\n",
      "\n",
      "________________________________________________________________________________________________________\n",
      "the undersample data for 2 proportion\n",
      "\n",
      "the normal transacation proportion is : 0.6666666666666666\n",
      "the fraud transacation proportion is : 0.3333333333333333\n",
      "total number of record in resampled data is: 1476\n",
      "------------------------------------------------------------\n",
      "\n",
      "the model classification for 2 proportion\n",
      "\n",
      "length of training data\n",
      "1033\n",
      "length of test data\n",
      "443\n",
      "\n",
      "the recall for this model is : 0.891304347826\n",
      "TP 123\n",
      "TN 303\n",
      "FP 2\n",
      "FN 15\n"
     ]
    },
    {
     "data": {
      "image/png": "[encoded data removed]",
      "text/plain": [
       "<matplotlib.figure.Figure at 0x1bd5ad7f438>"
      ]
     },
     "metadata": {},
     "output_type": "display_data"
    },
    {
     "name": "stdout",
     "output_type": "stream",
     "text": [
      "\n",
      "----------Classification Report------------------------------------\n",
      "             precision    recall  f1-score   support\n",
      "\n",
      "          0       0.95      0.99      0.97       305\n",
      "          1       0.98      0.89      0.94       138\n",
      "\n",
      "avg / total       0.96      0.96      0.96       443\n",
      "\n",
      "________________________________________________________________________________________________________\n",
      "the undersample data for 3 proportion\n",
      "\n",
      "the normal transacation proportion is : 0.75\n",
      "the fraud transacation proportion is : 0.25\n",
      "total number of record in resampled data is: 1968\n",
      "------------------------------------------------------------\n",
      "\n",
      "the model classification for 3 proportion\n",
      "\n",
      "length of training data\n",
      "1377\n",
      "length of test data\n",
      "591\n",
      "\n",
      "the recall for this model is : 0.908536585366\n",
      "TP 149\n",
      "TN 425\n",
      "FP 2\n",
      "FN 15\n"
     ]
    },
    {
     "data": {
      "image/png": "[encoded data removed]",
      "text/plain": [
       "<matplotlib.figure.Figure at 0x1bd5d68e080>"
      ]
     },
     "metadata": {},
     "output_type": "display_data"
    },
    {
     "name": "stdout",
     "output_type": "stream",
     "text": [
      "\n",
      "----------Classification Report------------------------------------\n",
      "             precision    recall  f1-score   support\n",
      "\n",
      "          0       0.97      1.00      0.98       427\n",
      "          1       0.99      0.91      0.95       164\n",
      "\n",
      "avg / total       0.97      0.97      0.97       591\n",
      "\n",
      "________________________________________________________________________________________________________\n"
     ]
    }
   ],
   "source": [
    "# Random Forest Classifier with undersample data only\n",
    "for i in range(1,4):\n",
    "    print(\"the undersample data for {} proportion\".format(i))\n",
    "    print()\n",
    "    Undersample_data = undersample(normal_indices,fraud_indices,i)\n",
    "    print(\"------------------------------------------------------------\")\n",
    "    print()\n",
    "    print(\"the model classification for {} proportion\".format(i))\n",
    "    print()\n",
    "    undersample_features_train,undersample_features_test,undersample_labels_train,undersample_labels_test=data_prepration(Undersample_data)\n",
    "    print()\n",
    "    clf= RandomForestClassifier(n_estimators=100)# here we are just changing classifier\n",
    "    model(clf,undersample_features_train,undersample_features_test,undersample_labels_train,undersample_labels_test)\n",
    "    print(\"________________________________________________________________________________________________________\")\n"
   ]
  },
  {
   "cell_type": "code",
   "execution_count": 30,
   "metadata": {
    "collapsed": false
   },
   "outputs": [
    {
     "name": "stdout",
     "output_type": "stream",
     "text": [
      "the undersample data for 1 proportion\n",
      "\n",
      "the normal transacation proportion is : 0.5\n",
      "the fraud transacation proportion is : 0.5\n",
      "total number of record in resampled data is: 984\n",
      "------------------------------------------------------------\n",
      "\n",
      "the model classification for 1 proportion\n",
      "\n",
      "length of training data\n",
      "688\n",
      "length of test data\n",
      "296\n",
      "length of training data\n",
      "199364\n",
      "length of test data\n",
      "85443\n",
      "\n",
      "the recall for this model is : 0.975308641975\n",
      "TP 158\n",
      "TN 83271\n",
      "FP 2010\n",
      "FN 4\n"
     ]
    },
    {
     "data": {
      "image/png": "[encoded data removed]",
      "text/plain": [
       "<matplotlib.figure.Figure at 0x1bd5b66e7f0>"
      ]
     },
     "metadata": {},
     "output_type": "display_data"
    },
    {
     "name": "stdout",
     "output_type": "stream",
     "text": [
      "\n",
      "----------Classification Report------------------------------------\n",
      "             precision    recall  f1-score   support\n",
      "\n",
      "          0       1.00      0.98      0.99     85281\n",
      "          1       0.07      0.98      0.14       162\n",
      "\n",
      "avg / total       1.00      0.98      0.99     85443\n",
      "\n",
      "_________________________________________________________________________________________\n",
      "the undersample data for 2 proportion\n",
      "\n",
      "the normal transacation proportion is : 0.6666666666666666\n",
      "the fraud transacation proportion is : 0.3333333333333333\n",
      "total number of record in resampled data is: 1476\n",
      "------------------------------------------------------------\n",
      "\n",
      "the model classification for 2 proportion\n",
      "\n",
      "length of training data\n",
      "1033\n",
      "length of test data\n",
      "443\n",
      "length of training data\n",
      "199364\n",
      "length of test data\n",
      "85443\n",
      "\n",
      "the recall for this model is : 0.957446808511\n",
      "TP 135\n",
      "TN 84014\n",
      "FP 1288\n",
      "FN 6\n"
     ]
    },
    {
     "data": {
      "image/png": "[encoded data removed]",
      "text/plain": [
       "<matplotlib.figure.Figure at 0x1bd5b3b7b00>"
      ]
     },
     "metadata": {},
     "output_type": "display_data"
    },
    {
     "name": "stdout",
     "output_type": "stream",
     "text": [
      "\n",
      "----------Classification Report------------------------------------\n",
      "             precision    recall  f1-score   support\n",
      "\n",
      "          0       1.00      0.98      0.99     85302\n",
      "          1       0.09      0.96      0.17       141\n",
      "\n",
      "avg / total       1.00      0.98      0.99     85443\n",
      "\n",
      "_________________________________________________________________________________________\n",
      "the undersample data for 3 proportion\n",
      "\n",
      "the normal transacation proportion is : 0.75\n",
      "the fraud transacation proportion is : 0.25\n",
      "total number of record in resampled data is: 1968\n",
      "------------------------------------------------------------\n",
      "\n",
      "the model classification for 3 proportion\n",
      "\n",
      "length of training data\n",
      "1377\n",
      "length of test data\n",
      "591\n",
      "length of training data\n",
      "199364\n",
      "length of test data\n",
      "85443\n",
      "\n",
      "the recall for this model is : 0.972413793103\n",
      "TP 141\n",
      "TN 84862\n",
      "FP 436\n",
      "FN 4\n"
     ]
    },
    {
     "data": {
      "image/png": "[encoded data removed]",
      "text/plain": [
       "<matplotlib.figure.Figure at 0x1bd5d678080>"
      ]
     },
     "metadata": {},
     "output_type": "display_data"
    },
    {
     "name": "stdout",
     "output_type": "stream",
     "text": [
      "\n",
      "----------Classification Report------------------------------------\n",
      "             precision    recall  f1-score   support\n",
      "\n",
      "          0       1.00      0.99      1.00     85298\n",
      "          1       0.24      0.97      0.39       145\n",
      "\n",
      "avg / total       1.00      0.99      1.00     85443\n",
      "\n",
      "_________________________________________________________________________________________\n"
     ]
    }
   ],
   "source": [
    "#let us train this model using undersample data and test for the whole data test set \n",
    "for i in range(1,4):\n",
    "    print(\"the undersample data for {} proportion\".format(i))\n",
    "    print()\n",
    "    Undersample_data = undersample(normal_indices,fraud_indices,i)\n",
    "    print(\"------------------------------------------------------------\")\n",
    "    print()\n",
    "    print(\"the model classification for {} proportion\".format(i))\n",
    "    print()\n",
    "    undersample_features_train,undersample_features_test,undersample_labels_train,undersample_labels_test=data_prepration(Undersample_data)\n",
    "    data_features_train,data_features_test,data_labels_train,data_labels_test=data_prepration(data) \n",
    "    #the partion for whole data\n",
    "    print()\n",
    "    clf=RandomForestClassifier(n_estimators=100)\n",
    "    model(clf,undersample_features_train,data_features_test,undersample_labels_train,data_labels_test)\n",
    "    # here training for the undersample data but tatsing for whole data\n",
    "    print(\"_________________________________________________________________________________________\")\n"
   ]
  },
  {
   "cell_type": "code",
   "execution_count": 31,
   "metadata": {
    "collapsed": false
   },
   "outputs": [
    {
     "name": "stdout",
     "output_type": "stream",
     "text": [
      "V14                  0.165853\n",
      "V10                  0.157881\n",
      "V11                  0.102465\n",
      "V17                  0.101434\n",
      "V12                  0.091492\n",
      "V3                   0.060737\n",
      "V4                   0.045943\n",
      "V16                  0.043207\n",
      "V2                   0.027424\n",
      "V7                   0.026461\n",
      "V18                  0.021042\n",
      "V9                   0.017635\n",
      "V27                  0.013134\n",
      "V6                   0.011928\n",
      "V19                  0.010242\n",
      "Normalized Amount    0.010143\n",
      "V20                  0.009931\n",
      "V8                   0.009055\n",
      "V23                  0.008422\n",
      "V15                  0.007666\n",
      "V21                  0.007583\n",
      "V26                  0.007569\n",
      "V13                  0.007003\n",
      "V28                  0.006245\n",
      "V24                  0.006226\n",
      "V1                   0.006080\n",
      "V22                  0.006042\n",
      "V25                  0.005721\n",
      "V5                   0.005436\n",
      "dtype: float64\n"
     ]
    }
   ],
   "source": [
    "featimp = pd.Series(clf.feature_importances_,index=data_features_train.columns).sort_values(ascending=False)\n",
    "print(featimp) # this is the property of Random Forest classifier that it provide us the importance \n",
    "# of the features use"
   ]
  },
  {
   "cell_type": "code",
   "execution_count": 33,
   "metadata": {
    "collapsed": false
   },
   "outputs": [
    {
     "data": {
      "text/html": [
       "<div>\n",
       "<table border=\"1\" class=\"dataframe\">\n",
       "  <thead>\n",
       "    <tr style=\"text-align: right;\">\n",
       "      <th></th>\n",
       "      <th>V14</th>\n",
       "      <th>V10</th>\n",
       "      <th>V12</th>\n",
       "      <th>V17</th>\n",
       "      <th>V4</th>\n",
       "      <th>Class</th>\n",
       "    </tr>\n",
       "  </thead>\n",
       "  <tbody>\n",
       "    <tr>\n",
       "      <th>0</th>\n",
       "      <td>-0.311169</td>\n",
       "      <td>0.090794</td>\n",
       "      <td>-0.617801</td>\n",
       "      <td>0.207971</td>\n",
       "      <td>1.378155</td>\n",
       "      <td>0</td>\n",
       "    </tr>\n",
       "    <tr>\n",
       "      <th>1</th>\n",
       "      <td>-0.143772</td>\n",
       "      <td>-0.166974</td>\n",
       "      <td>1.065235</td>\n",
       "      <td>-0.114805</td>\n",
       "      <td>0.448154</td>\n",
       "      <td>0</td>\n",
       "    </tr>\n",
       "    <tr>\n",
       "      <th>2</th>\n",
       "      <td>-0.165946</td>\n",
       "      <td>0.207643</td>\n",
       "      <td>0.066084</td>\n",
       "      <td>1.109969</td>\n",
       "      <td>0.379780</td>\n",
       "      <td>0</td>\n",
       "    </tr>\n",
       "    <tr>\n",
       "      <th>3</th>\n",
       "      <td>-0.287924</td>\n",
       "      <td>-0.054952</td>\n",
       "      <td>0.178228</td>\n",
       "      <td>-0.684093</td>\n",
       "      <td>-0.863291</td>\n",
       "      <td>0</td>\n",
       "    </tr>\n",
       "    <tr>\n",
       "      <th>4</th>\n",
       "      <td>-1.119670</td>\n",
       "      <td>0.753074</td>\n",
       "      <td>0.538196</td>\n",
       "      <td>-0.237033</td>\n",
       "      <td>0.403034</td>\n",
       "      <td>0</td>\n",
       "    </tr>\n",
       "  </tbody>\n",
       "</table>\n",
       "</div>"
      ],
      "text/plain": [
       "        V14       V10       V12       V17        V4  Class\n",
       "0 -0.311169  0.090794 -0.617801  0.207971  1.378155      0\n",
       "1 -0.143772 -0.166974  1.065235 -0.114805  0.448154      0\n",
       "2 -0.165946  0.207643  0.066084  1.109969  0.379780      0\n",
       "3 -0.287924 -0.054952  0.178228 -0.684093 -0.863291      0\n",
       "4 -1.119670  0.753074  0.538196 -0.237033  0.403034      0"
      ]
     },
     "execution_count": 33,
     "metadata": {},
     "output_type": "execute_result"
    }
   ],
   "source": [
    "# make a new data with only class and V14\n",
    "data1=data[[\"V14\",\"V10\",\"V12\",\"V17\",\"V4\",\"Class\"]]\n",
    "data1.head()"
   ]
  },
  {
   "cell_type": "code",
   "execution_count": 34,
   "metadata": {
    "collapsed": false
   },
   "outputs": [
    {
     "name": "stdout",
     "output_type": "stream",
     "text": [
      "the normal transacation proportion is : 0.5\n",
      "the fraud transacation proportion is : 0.5\n",
      "total number of record in resampled data is: 984\n",
      "length of training data\n",
      "688\n",
      "length of test data\n",
      "296\n"
     ]
    }
   ],
   "source": [
    "Undersample_data1 = undersample(normal_indices,fraud_indices,1)\n",
    "#only for 50 % proportion it means normal transaction and fraud transaction are equal so passing \n",
    "Undersample_data1_features_train,Undersample_data1_features_test,Undersample_data1_labels_train,Undersample_data1_labels_test = data_prepration(Undersample_data1)"
   ]
  },
  {
   "cell_type": "code",
   "execution_count": 35,
   "metadata": {
    "collapsed": false
   },
   "outputs": [
    {
     "name": "stdout",
     "output_type": "stream",
     "text": [
      "the recall for this model is : 0.89932885906\n",
      "TP 134\n",
      "TN 143\n",
      "FP 4\n",
      "FN 15\n"
     ]
    },
    {
     "data": {
      "image/png": "[encoded data removed]",
      "text/plain": [
       "<matplotlib.figure.Figure at 0x1bd5cefc358>"
      ]
     },
     "metadata": {},
     "output_type": "display_data"
    },
    {
     "name": "stdout",
     "output_type": "stream",
     "text": [
      "\n",
      "----------Classification Report------------------------------------\n",
      "             precision    recall  f1-score   support\n",
      "\n",
      "          0       0.91      0.97      0.94       147\n",
      "          1       0.97      0.90      0.93       149\n",
      "\n",
      "avg / total       0.94      0.94      0.94       296\n",
      "\n"
     ]
    }
   ],
   "source": [
    "clf= RandomForestClassifier(n_estimators=100)\n",
    "model(clf,Undersample_data1_features_train,Undersample_data1_features_test,Undersample_data1_labels_train,Undersample_data1_labels_test)"
   ]
  },
  {
   "cell_type": "code",
   "execution_count": 37,
   "metadata": {
    "collapsed": false
   },
   "outputs": [
    {
     "name": "stdout",
     "output_type": "stream",
     "text": [
      "length of training data 284807\n",
      "length of normal data 284315\n",
      "length of fraud  data 492\n"
     ]
    }
   ],
   "source": [
    "# now we will divied our data sets into two part and we will train and test and will oversample the train data and predict for test data\n",
    "# lets import data again\n",
    "data = pd.read_csv(\"input/creditcard.csv\",header = 0)\n",
    "print(\"length of training data\",len(data))\n",
    "print(\"length of normal data\",len(data[data[\"Class\"]==0]))\n",
    "print(\"length of fraud  data\",len(data[data[\"Class\"]==1]))"
   ]
  },
  {
   "cell_type": "code",
   "execution_count": 38,
   "metadata": {
    "collapsed": false
   },
   "outputs": [
    {
     "name": "stdout",
     "output_type": "stream",
     "text": [
      "length of training data\n",
      "199364\n",
      "length of test data\n",
      "85443\n"
     ]
    },
    {
     "data": {
      "text/plain": [
       "Index(['Class'], dtype='object')"
      ]
     },
     "execution_count": 38,
     "metadata": {},
     "output_type": "execute_result"
    }
   ],
   "source": [
    "data_train_X,data_test_X,data_train_y,data_test_y=data_prepration(data)\n",
    "data_train_X.columns\n",
    "data_train_y.columns"
   ]
  },
  {
   "cell_type": "code",
   "execution_count": null,
   "metadata": {
    "collapsed": true
   },
   "outputs": [],
   "source": []
  }
 ],
 "metadata": {
  "kernelspec": {
   "display_name": "Python 3",
   "language": "python",
   "name": "python3"
  },
  "language_info": {
   "codemirror_mode": {
    "name": "ipython",
    "version": 3
   },
   "file_extension": ".py",
   "mimetype": "text/x-python",
   "name": "python",
   "nbconvert_exporter": "python",
   "pygments_lexer": "ipython3",
   "version": "3.6.0"
  }
 },
 "nbformat": 4,
 "nbformat_minor": 2
}
